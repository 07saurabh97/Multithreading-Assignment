{
 "cells": [
  {
   "cell_type": "markdown",
   "id": "56a8f3e9-1732-4d1b-a7a2-3108de79373a",
   "metadata": {},
   "source": [
    "Q1. What is multithreading in python? hy is it used? Name the module used to handle threads in python."
   ]
  },
  {
   "cell_type": "markdown",
   "id": "a9e55641-7c48-4eb9-83b4-1058d0e53801",
   "metadata": {},
   "source": [
    "Multithreading refers to yh ability of a program to execute multiple threads concurently.\n",
    "A thread is alightweight unit of execution within a process. Multithreading allows different parts of a program to run concurrently, sharing the same memory space and resources.\n",
    "\n",
    "The module commonly used to handle threads is the threading module. The threading module provides a high-level interface for creating and managing threads in Python. "
   ]
  },
  {
   "cell_type": "markdown",
   "id": "511e21a9-59ea-4b63-8a3c-03911ada7392",
   "metadata": {},
   "source": [
    "Q2. Why threading module used? write the use of the following functions\n",
    "1. activeCount()\n",
    "2. currentThread()\n",
    "3. enumerate()"
   ]
  },
  {
   "cell_type": "markdown",
   "id": "2a80ecd8-eadf-4c19-a954-2633e13e6e50",
   "metadata": {},
   "source": [
    "The threading module in Python is used to create, control, and manage threads. It provides a high-level interface for working with threads and offers various functions to handle threads effectively.\n",
    "\n",
    "Here are the uses of the following functions:\n",
    "1. activecount() -The activeCount() function is used to return the number of Thread objects currently alive. \n",
    "2. currentThread() - The currentThread() function returns the Thread object corresponding to the current thread of execution. It can be used to obtain information about the current thread, such as its name, identification number, and more \n",
    "3. enumerate() - The enumerate() function is used to return a list of all active Thread objects. It includes threads that are currently executing their run() function."
   ]
  },
  {
   "cell_type": "markdown",
   "id": "4f36b057-91ad-4eaf-be03-97d46c8566da",
   "metadata": {},
   "source": [
    "Q3. Explain the following functions\n",
    "1.run()\n",
    "2.start()\n",
    "3.join()\n",
    "4.isAlive()"
   ]
  },
  {
   "cell_type": "markdown",
   "id": "c3e0072a-19d9-4c70-adda-12ae63d38e71",
   "metadata": {},
   "source": [
    "1. run(): The run() method is the entry point for a thread. It contains the code that will be executed when the thread is started. This method needs to be overridden in a subclass of the Thread class or when using the Runnable interface. The run() method should contain the logic that needs to be executed concurrently in the thread.\n",
    "\n",
    "2. start(): The start() method is used to start a new thread of execution. It creates a new thread and calls the run() method of the thread. It is important to note that the run() method should not be called directly, but rather through the start() method. Calling start() ensures that the new thread is properly initialized and scheduled for execution.\n",
    "\n",
    "3. join(): The join() method is used to wait for a thread to complete its execution. When a thread calls the join() method on another thread, it waits until that thread finishes its execution before continuing. This is useful when you want to synchronize the execution of multiple threads or when you want to ensure that a certain thread completes before proceeding further.\n",
    "\n",
    "4. isAlive(): The isAlive() method is used to check if a thread is still running or has completed its execution. It returns True if the thread is still alive and False otherwise. This method is often used in conjunction with the join() method to wait for a thread to finish and then check its status."
   ]
  },
  {
   "cell_type": "markdown",
   "id": "2b8fafd7-b7e7-4a29-9525-2c2432c987b0",
   "metadata": {},
   "source": [
    "Q4. Write a python program to create two threads. Thread one must print the list of squares and thread\n",
    "two must print the list of cubes"
   ]
  },
  {
   "cell_type": "code",
   "execution_count": 5,
   "id": "47b70c3d-a147-4550-a02d-49e5837ccfca",
   "metadata": {},
   "outputs": [
    {
     "name": "stdout",
     "output_type": "stream",
     "text": [
      "1\n",
      "4\n",
      "9\n",
      "16\n",
      "25\n",
      "1\n",
      "8\n",
      "27\n",
      "64\n",
      "125\n",
      "DONE \n"
     ]
    }
   ],
   "source": [
    "import threading\n",
    "def print_square():\n",
    "    for i in range(1,6):\n",
    "        print(i**2)\n",
    "            \n",
    "def print_cube():\n",
    "    for i in range(1,6):\n",
    "        print(i**3)\n",
    "        \n",
    "thread1=threading.Thread(target=print_square)\n",
    "thread2=threading.Thread(target=print_cube)\n",
    "\n",
    "thread1.start()\n",
    "thread2.start()\n",
    "\n",
    "thread1.join()\n",
    "thread2.join()\n",
    "\n",
    "print(\"DONE \")"
   ]
  },
  {
   "cell_type": "markdown",
   "id": "eaa01427-ae48-4d26-b012-ce8db06a1fce",
   "metadata": {},
   "source": [
    "Q5. State advantages and disadvantages of multithreading"
   ]
  },
  {
   "cell_type": "markdown",
   "id": "9f45de31-bc05-4dda-8e61-eb63c8fcecbb",
   "metadata": {},
   "source": [
    "Advantages-\n",
    "1. Enhanced Performance\n",
    "2. Simplified Coading\n",
    "3. Improved Responsiveness\n",
    "4. Parallel Exection\n",
    "5. Reduce Maintenance Cost\n",
    "6. Better Resource Utilization\n",
    "\n",
    "Disadvantages-\n",
    "1. Complex Debugging and Testing\n",
    "2. Context Switching Overhead\n",
    "3. Deadlock Potential\n",
    "4. Increased Program Complexity\n",
    "5. Unpredictable Results"
   ]
  },
  {
   "cell_type": "markdown",
   "id": "199270b9-e2d3-4679-a898-046e4de2f668",
   "metadata": {},
   "source": [
    "Q6. Explain deadlocks and race conditions."
   ]
  },
  {
   "cell_type": "markdown",
   "id": "aa41134d-31be-44b2-931d-cb8cbc3155aa",
   "metadata": {},
   "source": [
    "Deadlock- A deadlock is a situation where two or more threads or processes are blocked indefinitely, waiting for each other to release resources that they hold. In other words, each thread is waiting for a resource that is held by another thread, resulting in a circular dependency and a state where no progress can be made.\n",
    "\n",
    "Race condition- A race condition occurs in a concurrent program when multiple threads or processes access shared resources or variables concurrently and in an unpredictable order. The behavior of the program becomes dependent on the timing and order of events, leading to unexpected and incorrect results. Race conditions can cause data corruption, program crashes, or other unpredictable behavior."
   ]
  },
  {
   "cell_type": "code",
   "execution_count": null,
   "id": "076fd18b-b756-4fe0-a277-a2ac5e6756aa",
   "metadata": {},
   "outputs": [],
   "source": []
  }
 ],
 "metadata": {
  "kernelspec": {
   "display_name": "Python 3 (ipykernel)",
   "language": "python",
   "name": "python3"
  },
  "language_info": {
   "codemirror_mode": {
    "name": "ipython",
    "version": 3
   },
   "file_extension": ".py",
   "mimetype": "text/x-python",
   "name": "python",
   "nbconvert_exporter": "python",
   "pygments_lexer": "ipython3",
   "version": "3.10.8"
  }
 },
 "nbformat": 4,
 "nbformat_minor": 5
}
